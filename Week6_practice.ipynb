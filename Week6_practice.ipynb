{
 "cells": [
  {
   "cell_type": "markdown",
   "metadata": {},
   "source": [
    "## Q1. Student class를 만들고, 자신의 이름을 넣으면 hello my name is <자신의 이름>을 print해주는 hello method를 추가해서 직접 써보세요"
   ]
  },
  {
   "cell_type": "code",
   "execution_count": 1,
   "metadata": {},
   "outputs": [
    {
     "name": "stdout",
     "output_type": "stream",
     "text": [
      "hello my name is Yoonsung\n"
     ]
    }
   ],
   "source": [
    "class Student:\n",
    "    def hellomethod(self,naame):\n",
    "        self.naame=naame\n",
    "        print(f'hello my name is {Yoon.naame}')\n",
    "Yoon=Student()\n",
    "Yoon.hellomethod('Yoonsung')\n"
   ]
  },
  {
   "cell_type": "markdown",
   "metadata": {},
   "source": [
    "## Q2. Matching class를 만들고, 두 개의 input string의 길이가 서로 같으면 'hurray', 다르면 'aah'를 print해주는 is_match method를 추가해서 직접 써보세요"
   ]
  },
  {
   "cell_type": "code",
   "execution_count": null,
   "metadata": {},
   "outputs": [
    {
     "name": "stdout",
     "output_type": "stream",
     "text": [
      "aaah\n"
     ]
    }
   ],
   "source": [
    "\n",
    "class Matchingclass:\n",
    "    def is_matchmethod(self,st1,st2):\n",
    "        self.st1=st1\n",
    "        self.st2=st2\n",
    "        if len(st1)==len(st2):\n",
    "            print('hurray')\n",
    "        else:\n",
    "            print('aaah')\n",
    "\n",
    "huray = Matchingclass()\n",
    "huray.is_matchmethod('sdkfjeo','skdjeo')\n"
   ]
  },
  {
   "cell_type": "markdown",
   "metadata": {},
   "source": [
    "## Q3. Q2에서 만든 Matching class를 변형해서, 1) is_match method의 결과 ('hurray' 혹은 'aah')를 객체변수에 저장해놓고, 2) result_is method를 만들어서 실행시키면 1) 에서의 결과가 출력되도록 하시오"
   ]
  },
  {
   "cell_type": "code",
   "execution_count": 18,
   "metadata": {},
   "outputs": [
    {
     "name": "stdout",
     "output_type": "stream",
     "text": [
      "the result is hurray\n"
     ]
    }
   ],
   "source": [
    "class Matchingclass:\n",
    "    def resultismethod(self,st1,st2):\n",
    "        self.st1=st1\n",
    "        self.st2=st2\n",
    "        if len(st1)==len(st2):\n",
    "            huray.st1='hurray'\n",
    "            print(f'the result is {huray.st1}')\n",
    "        else:\n",
    "            huray.st2='aah'\n",
    "            print(f'the result is {huray.st2}')\n",
    "\n",
    "        \n",
    "\n",
    "huray = Matchingclass()\n",
    "huray.resultismethod('sdkfjeo','skddjeo')"
   ]
  },
  {
   "cell_type": "code",
   "execution_count": null,
   "metadata": {},
   "outputs": [],
   "source": []
  }
 ],
 "metadata": {
  "kernelspec": {
   "display_name": "Python 3",
   "language": "python",
   "name": "python3"
  },
  "language_info": {
   "codemirror_mode": {
    "name": "ipython",
    "version": 3
   },
   "file_extension": ".py",
   "mimetype": "text/x-python",
   "name": "python",
   "nbconvert_exporter": "python",
   "pygments_lexer": "ipython3",
   "version": "3.9.6"
  }
 },
 "nbformat": 4,
 "nbformat_minor": 2
}
