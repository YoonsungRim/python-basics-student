{
 "cells": [
  {
   "cell_type": "markdown",
   "metadata": {
    "id": "ZvLdqHYpNnFl"
   },
   "source": [
    "# Week 10 : Getting Ready to Level Up"
   ]
  },
  {
   "cell_type": "markdown",
   "metadata": {
    "id": "iTwIKNz51p_Z"
   },
   "source": [
    "**Goal 1** : Basics를 정말 잘 이해했는지 스스로 확인해보자."
   ]
  },
  {
   "cell_type": "markdown",
   "metadata": {
    "id": "pVIbJDqDNw-_"
   },
   "source": [
    "**Goal 2** : Python package 3대장 Sympy, numpy and pandas 중 Sympy를 배워보자."
   ]
  },
  {
   "cell_type": "markdown",
   "metadata": {
    "id": "sdxx4caRu0j8"
   },
   "source": [
    "🎉🎉🎉🎉🎉🎉🎉🎉\n",
    "\n",
    "드디어 Python basics의 마지막 template이다!\n",
    "\n",
    "넓은 개념에서 보면 basics라기보단 basics basics에 가까울 수 있으나, 아직 세부 분야 (웹 프로그래밍, 데이터 분석, 인공지능, 소프트웨어 등등)을 정하지 않은 상태이기 때문에 정말 많은 것을 배웠다고 할 수 있다."
   ]
  },
  {
   "cell_type": "markdown",
   "metadata": {
    "id": "aFrOtkjoCWWv"
   },
   "source": [
    "## 1. Python basics Completion"
   ]
  },
  {
   "cell_type": "markdown",
   "metadata": {
    "id": "NWo_IeV6Htnt"
   },
   "source": [
    "### For Loop + Function"
   ]
  },
  {
   "cell_type": "markdown",
   "metadata": {
    "id": "WDvt-2MUHyyy"
   },
   "source": [
    "Week 7의 Homework problem 1.에서, Python standard library인 ```itertools.permutations```를 사용하지 않고, for loop를 사용하여 똑같은 기능을 만들었었다.\n",
    "\n",
    "그렇다면, 이번에는 ```itertools.combinations```에 해당하는 기능까지 '추가로' 만들어서, 두 가지 기능을 전부 가진 PerAndCombi function을 만들어보자."
   ]
  },
  {
   "cell_type": "code",
   "execution_count": null,
   "metadata": {
    "id": "Y0TyO3qXHy3U"
   },
   "outputs": [],
   "source": [
    "task = \"combi\"\n",
    "# task = \"permut\"\n",
    "\n",
    "def PerAndCombi(task):\n",
    "  if task == \"combi\":\n",
    "    .. do something\n",
    "\n",
    "  elif task == \"permut\":\n",
    "    .. do something\n",
    "\n",
    "\n",
    "  else:\n",
    "    return \"Invalid task input\""
   ]
  },
  {
   "cell_type": "markdown",
   "metadata": {
    "id": "EfMLsKeJKJIL"
   },
   "source": [
    "### Step-by-step"
   ]
  },
  {
   "cell_type": "markdown",
   "metadata": {
    "id": "QmNLHc_wKIRw"
   },
   "source": [
    "1. Permutation 기능을 하는 for loop 코드를 작성해보자."
   ]
  },
  {
   "cell_type": "code",
   "execution_count": null,
   "metadata": {
    "id": "VEFdJeD7KIaD"
   },
   "outputs": [],
   "source": []
  },
  {
   "cell_type": "markdown",
   "metadata": {
    "id": "cv9svC2LKIhf"
   },
   "source": [
    "2. Combination 기능을 하는 for loop 코드를 작성해보자."
   ]
  },
  {
   "cell_type": "code",
   "execution_count": null,
   "metadata": {
    "id": "nKv74t-_KInq"
   },
   "outputs": [],
   "source": [
    "lst=[1,2,3,4,5,6,7]\n",
    "k=2\n",
    "a=0\n",
    "res=[]\n",
    "for idx1 in range(len(lst)):\n",
    "    for idx2 in range(len(lst)):\n",
    "        if (res[a][0]==idx1 and res[a][1]==idx2) or (res[a][0]==idx2 and res[a][1]==idx1):\n",
    "            if idx1 != idx2:\n",
    "                res.append((lst[idx1],lst[idx2]))\n",
    "            #res[a]를 어떻게 해야할까\n",
    "\n",
    "print(res)"
   ]
  },
  {
   "cell_type": "code",
   "execution_count": 19,
   "metadata": {},
   "outputs": [
    {
     "name": "stdout",
     "output_type": "stream",
     "text": [
      "false\n"
     ]
    }
   ],
   "source": [
    "x=(1,3)\n",
    "y=(2,1)\n",
    "if x[0]==y[0] and x[1]==y[1] or x[0]==y[1] and x[1]==y[0]:\n",
    "    print('true')\n",
    "else:\n",
    "    print('false')\n"
   ]
  },
  {
   "cell_type": "markdown",
   "metadata": {
    "id": "rGhjOX3SKZO4"
   },
   "source": [
    "3. PerAndCombi function 내부에 둘을 if, elif 그리고 esle로 분리하여 작성하자."
   ]
  },
  {
   "cell_type": "code",
   "execution_count": null,
   "metadata": {
    "id": "X2h46-y5LdFM"
   },
   "outputs": [],
   "source": []
  },
  {
   "cell_type": "markdown",
   "metadata": {
    "id": "z7nCnCD_KoEb"
   },
   "source": [
    "### Class + For Loop + Function"
   ]
  },
  {
   "cell_type": "markdown",
   "metadata": {
    "id": "u8N0COHjKtmr"
   },
   "source": [
    "위에서 작성한 코드를 조금 변형해보자.\n",
    "\n",
    "\n",
    "PermutAndCombi를 class의 이름으로 하고, 그에 대한 method로 permutation()과 combination()을 작성해보자."
   ]
  },
  {
   "cell_type": "code",
   "execution_count": null,
   "metadata": {
    "id": "RI-A5w1DLfY1"
   },
   "outputs": [],
   "source": [
    "class PermutAndCombi():\n",
    "\n",
    "  def permutation(self, ...):\n",
    "    ...\n",
    "\n",
    "  def combination(self, ...):\n",
    "    ...\n",
    "\n"
   ]
  },
  {
   "cell_type": "markdown",
   "metadata": {
    "id": "5sMhLgxoLdwp"
   },
   "source": [
    "### Step-by-step"
   ]
  },
  {
   "cell_type": "markdown",
   "metadata": {
    "id": "o41ax6U2Ldwq"
   },
   "source": [
    "1. Permutation 기능을 하는 function을 for loop 코드를 작성해보자."
   ]
  },
  {
   "cell_type": "code",
   "execution_count": null,
   "metadata": {
    "id": "AlNia4NILdwr"
   },
   "outputs": [],
   "source": []
  },
  {
   "cell_type": "markdown",
   "metadata": {
    "id": "yUd_DN5HLdwr"
   },
   "source": [
    "2. Combination 기능을 하는 function을 for loop 코드를 작성해보자."
   ]
  },
  {
   "cell_type": "code",
   "execution_count": null,
   "metadata": {
    "id": "RVmCqEWpLdwr"
   },
   "outputs": [],
   "source": []
  },
  {
   "cell_type": "markdown",
   "metadata": {
    "id": "BJ9wYoISLdws"
   },
   "source": [
    "3. PerAndCombi class 내부에 둘을 method로서 추가하자."
   ]
  },
  {
   "cell_type": "code",
   "execution_count": null,
   "metadata": {
    "id": "fBTjl98NKoKB"
   },
   "outputs": [],
   "source": []
  },
  {
   "cell_type": "markdown",
   "metadata": {
    "id": "VUVQJTDXL8OU"
   },
   "source": [
    "4. 실제로 random한 input을 넣어 사용해보자."
   ]
  },
  {
   "cell_type": "code",
   "execution_count": null,
   "metadata": {
    "id": "gG11yngiL8aA"
   },
   "outputs": [],
   "source": []
  },
  {
   "cell_type": "markdown",
   "metadata": {
    "id": "1NaW5zqXMe09"
   },
   "source": [
    "### re Expression"
   ]
  },
  {
   "cell_type": "markdown",
   "metadata": {
    "id": "tkCzSN5pMoPc"
   },
   "source": [
    "다음과 같은 multiple line string이 주어진다.\n",
    "\n",
    "```\n",
    "\"\"\"python one\n",
    "life is too short\n",
    "python two\n",
    "you need python\n",
    "python three\"\"\"\n",
    "```\n",
    "\n",
    "이 string에서, ```['python one', 'python two', 'python three']```를 추출해낼 수 있는 re expression을 작성하시오."
   ]
  },
  {
   "cell_type": "markdown",
   "metadata": {
    "id": "ggodGJ4RM1La"
   },
   "source": [
    "### Step-by-step"
   ]
  },
  {
   "cell_type": "markdown",
   "metadata": {
    "id": "nkZDtKedM4aN"
   },
   "source": [
    "1. ```['python one', 'python two', 'python three']```에는 어떤 공통점이 있는지 찾아보자."
   ]
  },
  {
   "cell_type": "code",
   "execution_count": null,
   "metadata": {
    "id": "b9CVonnhM1Qg"
   },
   "outputs": [],
   "source": []
  },
  {
   "cell_type": "markdown",
   "metadata": {
    "id": "3COlkPWGM1gg"
   },
   "source": [
    "2. 위에서 찾은 공통점을, meta characters로 표현해보자."
   ]
  },
  {
   "cell_type": "code",
   "execution_count": null,
   "metadata": {
    "id": "4zDolSxpMe5V"
   },
   "outputs": [],
   "source": []
  },
  {
   "cell_type": "markdown",
   "metadata": {
    "id": "Dej2ADnrNB4I"
   },
   "source": [
    "3. Meta characters를 사용하여, compile한 후 given string에 적용하자. "
   ]
  },
  {
   "cell_type": "code",
   "execution_count": null,
   "metadata": {
    "id": "aO8OR4ITNB8c"
   },
   "outputs": [],
   "source": []
  },
  {
   "cell_type": "markdown",
   "metadata": {
    "id": "bHJ70wnNTB3p"
   },
   "source": [
    "## 2. Sympy"
   ]
  },
  {
   "cell_type": "markdown",
   "metadata": {
    "id": "zGy9wYjqOVAb"
   },
   "source": [
    "sympy는 방정식 기호(symbol)를 사용하게 해주는 외부 라이브러리이다.\n",
    "\n",
    "표준 라이브러리와 달리, 외부에서 지원하는 라이브러리로 별도로 다운로드를 받아야 한다.\n"
   ]
  },
  {
   "cell_type": "markdown",
   "metadata": {
    "id": "awBWl3i7OVFF"
   },
   "source": [
    "> ```! pip install PACKAGE_NAME```의 명령어를 code cell에서 실행시키면, 원하는 패키지(라이브러리)를 다운받을 수 있다."
   ]
  },
  {
   "cell_type": "markdown",
   "metadata": {
    "id": "ek6aQQF7Ooyc"
   },
   "source": [
    "단, 수업 초반에 설명했듯이 google colaboratory는 web-based Python interpreter로, 내가 install하면 정해둔 위치에 저장이 되고 삭제하기 전까지 유지되는 local machine과 달리 매번 다운로드 해줘야한다."
   ]
  },
  {
   "cell_type": "code",
   "execution_count": null,
   "metadata": {
    "id": "MD3K6kVLO8Ez"
   },
   "outputs": [],
   "source": [
    "!pip install sympy"
   ]
  },
  {
   "cell_type": "markdown",
   "metadata": {
    "id": "XyzbDViIO-wh"
   },
   "source": [
    "### sympy 사용해 보기"
   ]
  },
  {
   "cell_type": "markdown",
   "metadata": {
    "id": "tGtZuRIpPBHb"
   },
   "source": [
    "시윤이는 가진 돈의 2/5로 학용품을 샀다고 한다. 이때 학용품을 사는 데 쓴 돈이 1,760원이라면 남은 돈은 어떻게 구하면 될까?\n",
    "\n",
    "이 문제는 연습장과 연필만 있으면 쉽게 구할 수 있는 일차방정식 문제이다. 파이썬으로는 다음처럼 sympy를 사용하면 방정식을 쉽게 풀 수 있다. 먼저 다음과 같이 fractions 모듈과 sympy 모듈이 필요하다."
   ]
  },
  {
   "cell_type": "code",
   "execution_count": null,
   "metadata": {
    "id": "AzI-alVpPC6d"
   },
   "outputs": [],
   "source": [
    "from fractions import Fraction\n",
    "import sympy"
   ]
  },
  {
   "cell_type": "markdown",
   "metadata": {
    "id": "LCaFapSNPDzQ"
   },
   "source": [
    "시윤이가 가진 돈을 x라 하면 sympy 모듈을 사용하여 다음과 같이 표현할 수 있다."
   ]
  },
  {
   "cell_type": "code",
   "execution_count": null,
   "metadata": {
    "id": "XNLhTJxBPErK"
   },
   "outputs": [],
   "source": [
    " x = sympy.symbols(\"x\")"
   ]
  },
  {
   "cell_type": "markdown",
   "metadata": {
    "id": "jM73TN8vPFk_"
   },
   "source": [
    "sympy.symbols()는 x처럼 방정식에 사용하는 미지수를 나타내는 기호를 생성할 때 사용한다."
   ]
  },
  {
   "cell_type": "markdown",
   "metadata": {
    "id": "z2aGZ2ZnPGgh"
   },
   "source": [
    "**여러개의 기호 사용하기**"
   ]
  },
  {
   "cell_type": "markdown",
   "metadata": {
    "id": "Lhn7lJ0yPHIv"
   },
   "source": [
    "x, y 두 개의 미지수가 필요하다면 다음처럼 표현할 수 있다."
   ]
  },
  {
   "cell_type": "code",
   "execution_count": null,
   "metadata": {
    "id": "5r_TF6UTPH1g"
   },
   "outputs": [],
   "source": [
    "x, y = sympy.symbols('x y')"
   ]
  },
  {
   "cell_type": "markdown",
   "metadata": {
    "id": "b-P_IZtEPJHt"
   },
   "source": [
    "시윤이가 가진 돈의 \n",
    "가 1,760원, 즉 일차방정식 \n",
    "이므로 이를 코드로 표현하면 다음과 같다."
   ]
  },
  {
   "cell_type": "code",
   "execution_count": null,
   "metadata": {
    "id": "NpF0noQPPKpk"
   },
   "outputs": [],
   "source": [
    "f = sympy.Eq(x*Fraction('2/5'), 1760)"
   ]
  },
  {
   "cell_type": "markdown",
   "metadata": {
    "id": "J8w4eOdgPLr9"
   },
   "source": [
    "sympy.Eq(a, b)는 a와 b가 같다는 방정식이다. 여기서 사용한 Fraction은 유리수를 표현할 때 사용하는 파이썬 클래스로, 2/5를 정확하게 계산하고자 사용했다."
   ]
  },
  {
   "cell_type": "markdown",
   "metadata": {
    "id": "lyvSR2sDPNqs"
   },
   "source": [
    "### fractions.Fraction"
   ]
  },
  {
   "cell_type": "markdown",
   "metadata": {
    "id": "uJArM6wtPQla"
   },
   "source": [
    "파이썬에서 유리수 연산을 정확하게 하려면 fractions.Fraction을 사용해야 한다."
   ]
  },
  {
   "cell_type": "code",
   "execution_count": null,
   "metadata": {
    "id": "WYs_qhFdPRZk"
   },
   "outputs": [],
   "source": [
    "from fractions import Fraction"
   ]
  },
  {
   "cell_type": "markdown",
   "metadata": {
    "id": "XRGt5xHRPSTA"
   },
   "source": [
    "유리수는 다음처럼 Fraction(분자, 분모) 형태로 만들 수 있다."
   ]
  },
  {
   "cell_type": "code",
   "execution_count": null,
   "metadata": {
    "id": "S0YL37IpPSoB"
   },
   "outputs": [],
   "source": [
    "a = Fraction(1, 5)\n",
    "a\n",
    "\n",
    "Fraction(1, 5)"
   ]
  },
  {
   "cell_type": "markdown",
   "metadata": {
    "id": "0beY_PTyPTUj"
   },
   "source": [
    "또는 다음과 같이 Fraction('분자/분모')처럼 문자열로 만들 수도 있다."
   ]
  },
  {
   "cell_type": "code",
   "execution_count": null,
   "metadata": {
    "id": "PCHlE40CPUkg"
   },
   "outputs": [],
   "source": [
    "a = Fraction('1/5')\n",
    "a\n",
    "\n",
    "Fraction(1, 5)"
   ]
  },
  {
   "cell_type": "markdown",
   "metadata": {
    "id": "BPtUPT_IPVxm"
   },
   "source": [
    "위에서 f라는 방정식을 세웠으므로 sympy.solve(f)로 x에 해당하는 값을 구할 수 있다."
   ]
  },
  {
   "cell_type": "code",
   "execution_count": null,
   "metadata": {
    "id": "sBBpGbFiPZmN"
   },
   "outputs": [],
   "source": [
    "result = sympy.solve(f)\n",
    "result"
   ]
  },
  {
   "cell_type": "markdown",
   "metadata": {
    "id": "FOvjiJu6Paha"
   },
   "source": [
    "방정식의 해는 여러 개일 수 있으므로 solve() 함수는 결괏값으로 리스트를 리턴한다. 결과를 보면 시윤이가 원래 가진 돈이 4,400원임을 알 수 있다. 따라서 남은 돈은 다음처럼 가진 돈에서 1,760원을 빼면 된다."
   ]
  },
  {
   "cell_type": "code",
   "execution_count": null,
   "metadata": {
    "id": "rbOSR8SFPapg"
   },
   "outputs": [],
   "source": [
    "remains = result[0] - 1760\n",
    "remains"
   ]
  },
  {
   "cell_type": "markdown",
   "metadata": {
    "id": "wO_6KnTrPbsl"
   },
   "source": [
    "지금까지 내용을 종합한 풀이는 다음과 같다."
   ]
  },
  {
   "cell_type": "code",
   "execution_count": null,
   "metadata": {
    "id": "te9pC3eoPcmx"
   },
   "outputs": [],
   "source": [
    "from fractions import Fraction\n",
    "import sympy\n",
    "\n",
    "# 가지고 있던 돈을 x라고 하자.\n",
    "x = sympy.symbols(\"x\")\n",
    "\n",
    "# 가지고 있던 돈의 2/5가 1760원이므로 방정식은 x * (2/5) = 1760 이다.\n",
    "f = sympy.Eq(x*Fraction('2/5'), 1760)\n",
    "\n",
    "# 방정식을 만족하는 값(result)을 구한다.\n",
    "result = sympy.solve(f)  # 결괏값은 리스트\n",
    "\n",
    "# 남은 돈은 다음과 같이 가지고 있던 돈에서 1760원을 빼면 된다.\n",
    "remains = result[0] - 1760\n",
    "\n",
    "print('남은 돈은 {}원 입니다.'.format(remains))"
   ]
  },
  {
   "cell_type": "markdown",
   "metadata": {
    "id": "P3PkqpmwPfmG"
   },
   "source": [
    "프로그램을 실행한 결과는 다음과 같다."
   ]
  },
  {
   "cell_type": "code",
   "execution_count": null,
   "metadata": {
    "id": "IktV0jVvPfvd"
   },
   "outputs": [],
   "source": [
    "남은 돈은 2640원입니다."
   ]
  },
  {
   "cell_type": "markdown",
   "metadata": {
    "id": "ww8AsppNPhRP"
   },
   "source": [
    "### sympy 활용"
   ]
  },
  {
   "cell_type": "markdown",
   "metadata": {
    "id": "idPz1ilBPkRV"
   },
   "source": [
    "![image.png](data:image/png;base64,iVBORw0KGgoAAAANSUhEUgAAADIAAAAVCAYAAAAElr0/AAACKklEQVRYhe2XMWgTURzGfxWHCA7tdh27eaWCAYW24NDrVKRDlSyGDhrpcnZKHEqKgwQEjR00xSlu6ZYMSiNYEgcht0gSEJJFeoUO7XbdLuDwOUSxLUaS9IzV+oOb3vF/7/v+3+O9NyRJ/AOc+9MLCIr+hOwUWV26T2JplvGpe6zXWwEvqw/UM3vKRUzF33mSfJUeGMJIqvKl90pB0kdHPLzdJoW3FQ4IMR6ehv0s5XrwJvfEyXzwVVoxZMykVfWDcfbX03naLmcUm0TJD0eHTiTEd1KyJmLKuyep0h3V55asiK34YlgQpBA3p9h8WhVP8r1BtKPN3sbNnwo5fzxqBx+zrK45EHJpDseIX6uS3TogtOMxvZbDvhKCnQ2idxtEXyUwcXg2V8ZykkwNfmf84Iis3bxuL2TU8CX5JcVBzGVULSZlgIxHFUkNZSYRHPqMlKqnqSPNrTzjy1nMEPDZpQZY8xbmaI3EkwxmpO257Qi7K5tcik8LNLs0NXQ1ij1jdPn3MTop917bAkMp53d73BudOtLxHGnW88AtwhP9GTRojkTL3VqnUB/BWjapFPYhMo15EaCF8zhGYyFH7FIv5QcVLedwtL5tYiOuTScjC8RKqT1US8tazGl7cAnqSKdoDUnfr/Etai+j2O9HGGsNc+POGJsPC1y4PobbCpNeswkP92FWQNRezJJ4A3ufyjT3AcPEujxKeDlHet7gkJC/mzP+HjmF/Bdy2vgK6bCG+wuyYYQAAAAASUVORK5CYII=)\n",
    "\n",
    "과 같은 이차방정식의 해를 구해보자."
   ]
  },
  {
   "cell_type": "code",
   "execution_count": null,
   "metadata": {
    "id": "CNBi03OtQA3z"
   },
   "outputs": [],
   "source": [
    "import sympy\n",
    "\n",
    "x = sympy.symbols(\"x\")\n",
    "f = sympy.Eq(x**2, 1)\n",
    "\n",
    "sympy.solve(f)"
   ]
  },
  {
   "cell_type": "markdown",
   "metadata": {
    "id": "XqGNP9OvQBFw"
   },
   "source": [
    "또한, 다음과 같은 연립방정식의 해도 구할 수 있다"
   ]
  },
  {
   "cell_type": "code",
   "execution_count": null,
   "metadata": {
    "id": "HIvz3dWDQCKr"
   },
   "outputs": [],
   "source": [
    "import sympy\n",
    "\n",
    "x, y = sympy.symbols('x y')\n",
    "\n",
    "f1 = sympy.Eq(x+y, 10)\n",
    "f2 = sympy.Eq(x-y, 4)\n",
    "\n",
    "sympy.solve([f1, f2])\n"
   ]
  },
  {
   "cell_type": "markdown",
   "metadata": {
    "id": "lzD5qY4INhqP"
   },
   "source": [
    "# Homework"
   ]
  },
  {
   "cell_type": "markdown",
   "metadata": {
    "id": "LghCU4mECyQG"
   },
   "source": [
    "No homework this week!\n",
    "\n",
    "다음 주는, 이제 정말 basics를 마무리하기 위한 final exam이다.\n",
    "\n",
    "시험 범위는 전 범위이다.\n",
    "\n",
    "\n",
    "<br><br>\n",
    "당연히 Week 1 ~ Week 5보다 내용도 어렵고, 이 내용들을 안다는 가정 하에 시험을 보는 것이기 때문에 결과적으로 10개의 templates를 모두 숙지하고 있어야 한다.\n",
    "\n",
    "<br><br>\n",
    "Mid-exam에서 느껴보았겠지만, 아무리 이해를 잘했다 한들 복습하지 않으면 아무런 소용이 없다. 이번에는 잘 준비해서, 중심이 되는 코드 (수업시간에 강조한 것들, Try It! or homework problems)를 위주로 잘 공부하길 바란다.\n",
    "\n",
    "Wish you the best luck!"
   ]
  },
  {
   "cell_type": "code",
   "execution_count": null,
   "metadata": {
    "id": "5Tv0ml8JFJJk"
   },
   "outputs": [],
   "source": []
  }
 ],
 "metadata": {
  "colab": {
   "authorship_tag": "ABX9TyP+6LY6cOiSSIRTCuhzgWN/",
   "provenance": [],
   "toc_visible": true
  },
  "kernelspec": {
   "display_name": "Python 3",
   "name": "python3"
  },
  "language_info": {
   "codemirror_mode": {
    "name": "ipython",
    "version": 3
   },
   "file_extension": ".py",
   "mimetype": "text/x-python",
   "name": "python",
   "nbconvert_exporter": "python",
   "pygments_lexer": "ipython3",
   "version": "3.9.6"
  }
 },
 "nbformat": 4,
 "nbformat_minor": 0
}
